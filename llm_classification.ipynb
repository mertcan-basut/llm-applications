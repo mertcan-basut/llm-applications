{
  "nbformat": 4,
  "nbformat_minor": 0,
  "metadata": {
    "colab": {
      "provenance": [],
      "authorship_tag": "ABX9TyNikPZM8AIyFYeQ9PYYa240",
      "include_colab_link": true
    },
    "kernelspec": {
      "name": "python3",
      "display_name": "Python 3"
    },
    "language_info": {
      "name": "python"
    }
  },
  "cells": [
    {
      "cell_type": "markdown",
      "metadata": {
        "id": "view-in-github",
        "colab_type": "text"
      },
      "source": [
        "<a href=\"https://colab.research.google.com/github/mertcan-basut/llm-applications/blob/main/llm_classification.ipynb\" target=\"_parent\"><img src=\"https://colab.research.google.com/assets/colab-badge.svg\" alt=\"Open In Colab\"/></a>"
      ]
    },
    {
      "cell_type": "code",
      "source": [
        "!pip install -q openai\n",
        "!pip install -q python-dotenv"
      ],
      "metadata": {
        "id": "K9Nct2MGK_Gw"
      },
      "execution_count": null,
      "outputs": []
    },
    {
      "cell_type": "code",
      "source": [
        "!echo \"OPENAI_API_KEY=editme\" > .env"
      ],
      "metadata": {
        "id": "YdAGtaibgNpw"
      },
      "execution_count": 94,
      "outputs": []
    },
    {
      "cell_type": "code",
      "source": [
        "from openai import OpenAI as OpenAIClient\n",
        "\n",
        "from sklearn.model_selection import StratifiedShuffleSplit\n",
        "\n",
        "import pandas as pd\n",
        "import numpy as np\n",
        "\n",
        "from dotenv import load_dotenv, find_dotenv\n",
        "_ = load_dotenv(find_dotenv(), override=True) # read local .env file"
      ],
      "metadata": {
        "id": "yKmj9FwtLCST"
      },
      "execution_count": 95,
      "outputs": []
    },
    {
      "cell_type": "markdown",
      "source": [
        "## Prepare dataset\n",
        "\n",
        "LLMs' contextual and semantic perception capabilities are exploited for classifying BBC news articles into 5 distinct categories: `tech`, `business`, `sport`, `entertainment`, and `politics`"
      ],
      "metadata": {
        "id": "qDjvrjVWYWiD"
      }
    },
    {
      "cell_type": "code",
      "source": [
        "# Kaggle API Token is downloaded from https://www.kaggle.com/settings\n",
        "# and uploaded to the file system's working directory\n",
        "\n",
        "!mkdir .kaggle\n",
        "!cp kaggle.json .kaggle/\n",
        "!chmod 600 .kaggle/kaggle.json\n",
        "\n",
        "!kaggle datasets download yufengdev/bbc-fulltext-and-category\n",
        "!unzip bbc-fulltext-and-category.zip -d data/\n",
        "!rm bbc-fulltext-and-category.zip"
      ],
      "metadata": {
        "colab": {
          "base_uri": "https://localhost:8080/"
        },
        "id": "8pKrsUBoKIj-",
        "outputId": "18474c56-b87a-4baf-e75b-c7054cb4c42a"
      },
      "execution_count": 17,
      "outputs": [
        {
          "output_type": "stream",
          "name": "stdout",
          "text": [
            "Dataset URL: https://www.kaggle.com/datasets/yufengdev/bbc-fulltext-and-category\n",
            "License(s): CC0-1.0\n",
            "Downloading bbc-fulltext-and-category.zip to /content\n",
            "  0% 0.00/1.83M [00:00<?, ?B/s]\n",
            "100% 1.83M/1.83M [00:00<00:00, 132MB/s]\n",
            "Archive:  bbc-fulltext-and-category.zip\n",
            "  inflating: data/bbc-text.csv       \n"
          ]
        }
      ]
    },
    {
      "cell_type": "code",
      "source": [
        "def get_samples(data: pd.DataFrame, categories_col_name: str, samples_len: int):\n",
        "  \"\"\"\n",
        "  Get samples from the dataset while keeping the balance of the samples with respect to the classification categories.\n",
        "\n",
        "  Args:\n",
        "    data (pd.DataFrame): The dataset.\n",
        "    categories_col_name (str): The name of the column containing the classification categories.\n",
        "    samples_len (int): The number of samples to get.\n",
        "  \"\"\"\n",
        "  categories = data[categories_col_name].unique()\n",
        "  if samples_len < categories.size:\n",
        "    categories = np.random.choice(categories, size=samples_len, replace=False)\n",
        "    samples = pd.concat([data[data[categories_col_name] == category].sample(n=1, random_state=42) for category in categories])\n",
        "  else:\n",
        "    for _, test_index in StratifiedShuffleSplit(\n",
        "        n_splits=1, test_size=samples_len, random_state=42\n",
        "      ).split(data, data['category']): samples = data.iloc[test_index]\n",
        "  return samples"
      ],
      "metadata": {
        "id": "1V_n8hC6a8fm"
      },
      "execution_count": 73,
      "outputs": []
    },
    {
      "cell_type": "code",
      "source": [
        "data = pd.read_csv(\"data/bbc-text.csv\")\n",
        "categories = data['category'].unique()\n",
        "\n",
        "few_shot_samples = get_samples(data, 'category', 5)\n",
        "test_data = get_samples(data.drop(few_shot_samples.index), 'category', 10)"
      ],
      "metadata": {
        "id": "rTr2493mUqs_"
      },
      "execution_count": 101,
      "outputs": []
    },
    {
      "cell_type": "markdown",
      "source": [
        "# Classification"
      ],
      "metadata": {
        "id": "rGwCMBahiGXn"
      }
    },
    {
      "cell_type": "code",
      "source": [
        "client = OpenAIClient()"
      ],
      "metadata": {
        "id": "CB54s1vdiPUd"
      },
      "execution_count": 96,
      "outputs": []
    },
    {
      "cell_type": "markdown",
      "source": [
        "## Classification using *function calling*"
      ],
      "metadata": {
        "id": "1PZQG1D8eKpl"
      }
    },
    {
      "cell_type": "code",
      "source": [],
      "metadata": {
        "id": "9KRz8b8wh20w"
      },
      "execution_count": null,
      "outputs": []
    },
    {
      "cell_type": "markdown",
      "source": [
        "## Classification using *log probabilities*"
      ],
      "metadata": {
        "id": "lRL1uZq1ePkt"
      }
    },
    {
      "cell_type": "code",
      "source": [],
      "metadata": {
        "id": "SnDtwcceeVvD"
      },
      "execution_count": null,
      "outputs": []
    }
  ]
}